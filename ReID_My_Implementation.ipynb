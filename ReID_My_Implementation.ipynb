{
  "nbformat": 4,
  "nbformat_minor": 0,
  "metadata": {
    "colab": {
      "name": "ReID My Implementation.ipynb",
      "provenance": [],
      "mount_file_id": "11ZN-pUyf2QugiIn5DyY3CLwEyhvC-t3v",
      "authorship_tag": "ABX9TyPtsxSZCNXNzcRGXofc9t+H",
      "include_colab_link": true
    },
    "kernelspec": {
      "name": "python3",
      "display_name": "Python 3"
    },
    "language_info": {
      "name": "python"
    },
    "accelerator": "GPU"
  },
  "cells": [
    {
      "cell_type": "markdown",
      "metadata": {
        "id": "view-in-github",
        "colab_type": "text"
      },
      "source": [
        "<a href=\"https://colab.research.google.com/github/niruhan/reid-in-colab/blob/main/ReID_My_Implementation.ipynb\" target=\"_parent\"><img src=\"https://colab.research.google.com/assets/colab-badge.svg\" alt=\"Open In Colab\"/></a>"
      ]
    },
    {
      "cell_type": "code",
      "metadata": {
        "id": "9k7zlBlSrsEH"
      },
      "source": [
        "import os \n",
        "import sys\n",
        "from pycocotools.coco import COCO\n",
        "import urllib\n",
        "import zipfile "
      ],
      "execution_count": 1,
      "outputs": []
    },
    {
      "cell_type": "code",
      "metadata": {
        "colab": {
          "base_uri": "https://localhost:8080/"
        },
        "id": "cp8vWRdYug9o",
        "outputId": "5ee622a0-135f-4559-d103-a6393fe89e1d"
      },
      "source": [
        "market1501_url = 'http://188.138.127.15:81/Datasets/Market-1501-v15.09.15.zip'\n",
        "urllib.request.urlretrieve(market1501_url , filename = 'market1501.zip' )"
      ],
      "execution_count": 2,
      "outputs": [
        {
          "output_type": "execute_result",
          "data": {
            "text/plain": [
              "('market1501.zip', <http.client.HTTPMessage at 0x7fdd35cee1d0>)"
            ]
          },
          "metadata": {},
          "execution_count": 2
        }
      ]
    },
    {
      "cell_type": "code",
      "metadata": {
        "id": "W9-ski2Nvi2R"
      },
      "source": [
        "with zipfile.ZipFile('market1501.zip' , 'r') as zip_ref:\n",
        "  zip_ref.extractall()"
      ],
      "execution_count": 3,
      "outputs": []
    },
    {
      "cell_type": "code",
      "metadata": {
        "colab": {
          "base_uri": "https://localhost:8080/",
          "height": 145
        },
        "id": "WpsK-zXswQbi",
        "outputId": "e80e025d-beb1-42f7-a52c-f68e3922da50"
      },
      "source": [
        "from google.colab.patches import cv2_imshow\n",
        "from skimage import io\n",
        "img_path = \"market1501/bounding_box_test/-1_c1s1_000401_03.jpg\"\n",
        "image = io.imread(img_path) \n",
        "# image_2 = cv.cvtColor(image, cv.COLOR_BGR2RGB)\n",
        "# final_frame = cv.hconcat((image, image_2))\n",
        "cv2_imshow(image)"
      ],
      "execution_count": 6,
      "outputs": [
        {
          "output_type": "display_data",
          "data": {
            "image/png": "[encoded data removed]",
            "text/plain": [
              "<PIL.Image.Image image mode=RGB size=64x128 at 0x7FDD28FCD850>"
            ]
          },
          "metadata": {}
        }
      ]
    }
  ]
}